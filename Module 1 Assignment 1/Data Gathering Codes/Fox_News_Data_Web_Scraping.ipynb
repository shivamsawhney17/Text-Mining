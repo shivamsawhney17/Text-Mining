{
 "cells": [
  {
   "cell_type": "markdown",
   "id": "b6182f1c",
   "metadata": {},
   "source": [
    "# Web Scraping Fox news for articles"
   ]
  },
  {
   "cell_type": "code",
   "execution_count": 1,
   "id": "ff198c0d",
   "metadata": {},
   "outputs": [],
   "source": [
    "#Importing libraries\n",
    "import requests\n",
    "from bs4 import BeautifulSoup\n",
    "import pandas as pd"
   ]
  },
  {
   "cell_type": "code",
   "execution_count": 2,
   "id": "77cd1dd0",
   "metadata": {},
   "outputs": [],
   "source": [
    "# Define the base URL to scrape\n",
    "base_url = 'https://www.foxnews.com/category/us/environment/climate-change?page={}'"
   ]
  },
  {
   "cell_type": "code",
   "execution_count": 3,
   "id": "a06b316f",
   "metadata": {},
   "outputs": [],
   "source": [
    "# Initialize lists to store data\n",
    "titles = []\n",
    "descriptions = []\n",
    "links = []"
   ]
  },
  {
   "cell_type": "code",
   "execution_count": 4,
   "id": "4eae1880",
   "metadata": {},
   "outputs": [],
   "source": [
    "# Define the desired number of rows\n",
    "desired_rows = 250\n",
    "rows_scraped = 0"
   ]
  },
  {
   "cell_type": "code",
   "execution_count": 5,
   "id": "3849ab21",
   "metadata": {},
   "outputs": [],
   "source": [
    "# Initialize page number\n",
    "page_num = 1"
   ]
  },
  {
   "cell_type": "code",
   "execution_count": 6,
   "id": "1c546561",
   "metadata": {},
   "outputs": [],
   "source": [
    "# Continue scraping until desired number of rows is reached\n",
    "while rows_scraped < desired_rows:\n",
    "    # Send a GET request to the URL\n",
    "    response = requests.get(base_url.format(page_num))\n",
    "    \n",
    "    # Check if the request was successful (status code 200)\n",
    "    if response.status_code == 200:\n",
    "        # Parse the HTML content\n",
    "        soup = BeautifulSoup(response.text, 'html.parser')\n",
    "        \n",
    "        # Find all news articles on the page\n",
    "        articles = soup.find_all('article', class_='article')\n",
    "        \n",
    "        # Iterate over each article and extract relevant information\n",
    "        for article in articles:\n",
    "            # Extract the title\n",
    "            title = article.find('h4', class_='title').text.strip()\n",
    "            titles.append(title)\n",
    "            \n",
    "            # Extract the description\n",
    "            description = article.find('p', class_='dek').text.strip()\n",
    "            descriptions.append(description)\n",
    "            \n",
    "            # Extract the link\n",
    "            link = article.find('a')['href']\n",
    "            links.append(link)\n",
    "            \n",
    "            # Increment the count of scraped rows\n",
    "            rows_scraped += 1\n",
    "            \n",
    "            # Check if desired number of rows is reached\n",
    "            if rows_scraped >= desired_rows:\n",
    "                break\n",
    "        \n",
    "        # Increment page number for next request\n",
    "        page_num += 1\n",
    "    else:\n",
    "        print(\"Error: Failed to fetch data from the website. Status code:\", response.status_code)\n",
    "        break"
   ]
  },
  {
   "cell_type": "code",
   "execution_count": 7,
   "id": "c53fcb95",
   "metadata": {},
   "outputs": [],
   "source": [
    "# Create a DataFrame from the extracted data\n",
    "df = pd.DataFrame({\n",
    "    'Title': titles,\n",
    "    'Description': descriptions,\n",
    "    'Link': links\n",
    "})"
   ]
  },
  {
   "cell_type": "code",
   "execution_count": 8,
   "id": "31281683",
   "metadata": {
    "scrolled": true
   },
   "outputs": [
    {
     "data": {
      "text/html": [
       "<div>\n",
       "<style scoped>\n",
       "    .dataframe tbody tr th:only-of-type {\n",
       "        vertical-align: middle;\n",
       "    }\n",
       "\n",
       "    .dataframe tbody tr th {\n",
       "        vertical-align: top;\n",
       "    }\n",
       "\n",
       "    .dataframe thead th {\n",
       "        text-align: right;\n",
       "    }\n",
       "</style>\n",
       "<table border=\"1\" class=\"dataframe\">\n",
       "  <thead>\n",
       "    <tr style=\"text-align: right;\">\n",
       "      <th></th>\n",
       "      <th>Title</th>\n",
       "      <th>Description</th>\n",
       "      <th>Link</th>\n",
       "    </tr>\n",
       "  </thead>\n",
       "  <tbody>\n",
       "    <tr>\n",
       "      <th>0</th>\n",
       "      <td>Moderate Dems silent as Biden skirts Senate co...</td>\n",
       "      <td>Senate Democrats were silent when asked by Fox...</td>\n",
       "      <td>/politics/moderate-dems-silent-biden-skirts-se...</td>\n",
       "    </tr>\n",
       "    <tr>\n",
       "      <th>1</th>\n",
       "      <td>DC jury orders conservative commentator to pay...</td>\n",
       "      <td>Two conservative commentators were found guilt...</td>\n",
       "      <td>/politics/dc-jury-orders-conservative-commenta...</td>\n",
       "    </tr>\n",
       "    <tr>\n",
       "      <th>2</th>\n",
       "      <td>AOC declares victory in fight for Green New De...</td>\n",
       "      <td>Rep. Alexandria Ocasio-Cortez declared victory...</td>\n",
       "      <td>/politics/aoc-declares-victory-fight-green-new...</td>\n",
       "    </tr>\n",
       "    <tr>\n",
       "      <th>3</th>\n",
       "      <td>Why gas stove owners should still be worried</td>\n",
       "      <td>The Biden administration is backtracking on en...</td>\n",
       "      <td>/opinion/why-gas-stove-owners-should-still-wor...</td>\n",
       "    </tr>\n",
       "    <tr>\n",
       "      <th>4</th>\n",
       "      <td>State AGs warn Biden's natural gas moratorium ...</td>\n",
       "      <td>FIRST ON FOX: A group of nearly two dozen stat...</td>\n",
       "      <td>/politics/state-ags-warn-bidens-natural-gas-mo...</td>\n",
       "    </tr>\n",
       "    <tr>\n",
       "      <th>...</th>\n",
       "      <td>...</td>\n",
       "      <td>...</td>\n",
       "      <td>...</td>\n",
       "    </tr>\n",
       "    <tr>\n",
       "      <th>245</th>\n",
       "      <td>John Kerry's climate office faces GOP Oversigh...</td>\n",
       "      <td>FIRST ON FOX: The House Oversight Committee is...</td>\n",
       "      <td>/politics/john-kerrys-climate-office-faces-gop...</td>\n",
       "    </tr>\n",
       "    <tr>\n",
       "      <th>246</th>\n",
       "      <td>Biden's latest climate rules crack down on man...</td>\n",
       "      <td>The Environmental Protection Agency unveiled a...</td>\n",
       "      <td>/politics/bidens-latest-climate-rules-crack-do...</td>\n",
       "    </tr>\n",
       "    <tr>\n",
       "      <th>247</th>\n",
       "      <td>Biden admin sued for hiding John Kerry's staff...</td>\n",
       "      <td>FIRST ON FOX: The Biden administration was hit...</td>\n",
       "      <td>/politics/biden-admin-sued-hiding-john-kerrys-...</td>\n",
       "    </tr>\n",
       "    <tr>\n",
       "      <th>248</th>\n",
       "      <td>TikTok activist says he advised White House on...</td>\n",
       "      <td>A climate change activist who has a large foll...</td>\n",
       "      <td>/politics/tiktok-activist-says-he-advised-whit...</td>\n",
       "    </tr>\n",
       "    <tr>\n",
       "      <th>249</th>\n",
       "      <td>Another dead whale beaches in Maryland amid ra...</td>\n",
       "      <td>State officials in Maryland reported a second ...</td>\n",
       "      <td>/politics/another-dead-whale-beaches-maryland-...</td>\n",
       "    </tr>\n",
       "  </tbody>\n",
       "</table>\n",
       "<p>250 rows × 3 columns</p>\n",
       "</div>"
      ],
      "text/plain": [
       "                                                 Title  \\\n",
       "0    Moderate Dems silent as Biden skirts Senate co...   \n",
       "1    DC jury orders conservative commentator to pay...   \n",
       "2    AOC declares victory in fight for Green New De...   \n",
       "3         Why gas stove owners should still be worried   \n",
       "4    State AGs warn Biden's natural gas moratorium ...   \n",
       "..                                                 ...   \n",
       "245  John Kerry's climate office faces GOP Oversigh...   \n",
       "246  Biden's latest climate rules crack down on man...   \n",
       "247  Biden admin sued for hiding John Kerry's staff...   \n",
       "248  TikTok activist says he advised White House on...   \n",
       "249  Another dead whale beaches in Maryland amid ra...   \n",
       "\n",
       "                                           Description  \\\n",
       "0    Senate Democrats were silent when asked by Fox...   \n",
       "1    Two conservative commentators were found guilt...   \n",
       "2    Rep. Alexandria Ocasio-Cortez declared victory...   \n",
       "3    The Biden administration is backtracking on en...   \n",
       "4    FIRST ON FOX: A group of nearly two dozen stat...   \n",
       "..                                                 ...   \n",
       "245  FIRST ON FOX: The House Oversight Committee is...   \n",
       "246  The Environmental Protection Agency unveiled a...   \n",
       "247  FIRST ON FOX: The Biden administration was hit...   \n",
       "248  A climate change activist who has a large foll...   \n",
       "249  State officials in Maryland reported a second ...   \n",
       "\n",
       "                                                  Link  \n",
       "0    /politics/moderate-dems-silent-biden-skirts-se...  \n",
       "1    /politics/dc-jury-orders-conservative-commenta...  \n",
       "2    /politics/aoc-declares-victory-fight-green-new...  \n",
       "3    /opinion/why-gas-stove-owners-should-still-wor...  \n",
       "4    /politics/state-ags-warn-bidens-natural-gas-mo...  \n",
       "..                                                 ...  \n",
       "245  /politics/john-kerrys-climate-office-faces-gop...  \n",
       "246  /politics/bidens-latest-climate-rules-crack-do...  \n",
       "247  /politics/biden-admin-sued-hiding-john-kerrys-...  \n",
       "248  /politics/tiktok-activist-says-he-advised-whit...  \n",
       "249  /politics/another-dead-whale-beaches-maryland-...  \n",
       "\n",
       "[250 rows x 3 columns]"
      ]
     },
     "execution_count": 8,
     "metadata": {},
     "output_type": "execute_result"
    }
   ],
   "source": [
    "df"
   ]
  },
  {
   "cell_type": "code",
   "execution_count": 11,
   "id": "df5c287a",
   "metadata": {
    "scrolled": true
   },
   "outputs": [],
   "source": [
    "#df.to_csv(\"Fox_News_Data.csv\")"
   ]
  }
 ],
 "metadata": {
  "kernelspec": {
   "display_name": "Python 3 (ipykernel)",
   "language": "python",
   "name": "python3"
  },
  "language_info": {
   "codemirror_mode": {
    "name": "ipython",
    "version": 3
   },
   "file_extension": ".py",
   "mimetype": "text/x-python",
   "name": "python",
   "nbconvert_exporter": "python",
   "pygments_lexer": "ipython3",
   "version": "3.11.5"
  }
 },
 "nbformat": 4,
 "nbformat_minor": 5
}
