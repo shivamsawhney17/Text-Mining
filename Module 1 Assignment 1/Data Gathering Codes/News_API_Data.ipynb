{
 "cells": [
  {
   "cell_type": "markdown",
   "id": "8f46e8d9",
   "metadata": {},
   "source": [
    "# NEWS API Data Collection using API"
   ]
  },
  {
   "cell_type": "code",
   "execution_count": 10,
   "id": "88732394",
   "metadata": {
    "scrolled": true
   },
   "outputs": [],
   "source": [
    "#Importing Libraries\n",
    "import requests\n",
    "import pandas as pd"
   ]
  },
  {
   "cell_type": "code",
   "execution_count": 11,
   "id": "d9b6aee8",
   "metadata": {},
   "outputs": [],
   "source": [
    "# Set up your News API key\n",
    "NEWS_API_KEY = 'af108789df96456abb281d6f0a1b1c2e'"
   ]
  },
  {
   "cell_type": "code",
   "execution_count": 12,
   "id": "5b7d57de",
   "metadata": {},
   "outputs": [],
   "source": [
    "# Define search parameters\n",
    "search_query = 'Climate Change'\n",
    "num_articles = 500"
   ]
  },
  {
   "cell_type": "code",
   "execution_count": 13,
   "id": "e060940a",
   "metadata": {},
   "outputs": [],
   "source": [
    "# Initialize variables to store data\n",
    "articles = []"
   ]
  },
  {
   "cell_type": "code",
   "execution_count": 14,
   "id": "63695bec",
   "metadata": {},
   "outputs": [
    {
     "name": "stdout",
     "output_type": "stream",
     "text": [
      "Error: 'articles' key not found in response.\n"
     ]
    }
   ],
   "source": [
    "# Fetch articles iteratively until we have at least 200 articles\n",
    "page = 1\n",
    "while len(articles) < num_articles:\n",
    "    # Make request to News API\n",
    "    url = f'http://newsapi.org/v2/everything?q={search_query}&apiKey={NEWS_API_KEY}&pageSize=100&page={page}'\n",
    "    response = requests.get(url)\n",
    "    data = response.json()\n",
    "    \n",
    "    # Check if 'articles' key exists in the response\n",
    "    if 'articles' in data:\n",
    "        # Extract relevant information from each article\n",
    "        for article in data['articles']:\n",
    "            articles.append({\n",
    "                'title': article['title'],\n",
    "                'description': article['description'],\n",
    "                'source': article['source']['name'],\n",
    "                'published_at': article['publishedAt']\n",
    "            })\n",
    "    else:\n",
    "        # If 'articles' key does not exist, break out of the loop\n",
    "        print(\"Error: 'articles' key not found in response.\")\n",
    "        break\n",
    "    \n",
    "    # Increment page number for next request\n",
    "    page += 1"
   ]
  },
  {
   "cell_type": "code",
   "execution_count": 15,
   "id": "70655776",
   "metadata": {},
   "outputs": [],
   "source": [
    "# Create DataFrame from collected data\n",
    "df = pd.DataFrame({'Title': [article['title'] for article in articles],\n",
    "                   'Description': [article['description'] for article in articles],\n",
    "                   'Source': [article['source'] for article in articles],\n",
    "                   'Published At': [article['published_at'] for article in articles]})"
   ]
  },
  {
   "cell_type": "code",
   "execution_count": 16,
   "id": "f824cc71",
   "metadata": {},
   "outputs": [
    {
     "data": {
      "text/html": [
       "<div>\n",
       "<style scoped>\n",
       "    .dataframe tbody tr th:only-of-type {\n",
       "        vertical-align: middle;\n",
       "    }\n",
       "\n",
       "    .dataframe tbody tr th {\n",
       "        vertical-align: top;\n",
       "    }\n",
       "\n",
       "    .dataframe thead th {\n",
       "        text-align: right;\n",
       "    }\n",
       "</style>\n",
       "<table border=\"1\" class=\"dataframe\">\n",
       "  <thead>\n",
       "    <tr style=\"text-align: right;\">\n",
       "      <th></th>\n",
       "      <th>Title</th>\n",
       "      <th>Description</th>\n",
       "      <th>Source</th>\n",
       "      <th>Published At</th>\n",
       "    </tr>\n",
       "  </thead>\n",
       "  <tbody>\n",
       "    <tr>\n",
       "      <th>0</th>\n",
       "      <td>Paris votes to crack down on SUVs</td>\n",
       "      <td>Parisians have voted to increase parking charg...</td>\n",
       "      <td>The Verge</td>\n",
       "      <td>2024-02-05T12:24:14Z</td>\n",
       "    </tr>\n",
       "    <tr>\n",
       "      <th>1</th>\n",
       "      <td>NASA’s new mission will study microscopic plan...</td>\n",
       "      <td>A new NASA mission will study microscopic plan...</td>\n",
       "      <td>The Verge</td>\n",
       "      <td>2024-02-08T19:12:39Z</td>\n",
       "    </tr>\n",
       "    <tr>\n",
       "      <th>2</th>\n",
       "      <td>Inside the Beef Industry’s Campaign to Influen...</td>\n",
       "      <td>Big Beef is wooing science teachers with webin...</td>\n",
       "      <td>Wired</td>\n",
       "      <td>2024-02-01T12:00:00Z</td>\n",
       "    </tr>\n",
       "    <tr>\n",
       "      <th>3</th>\n",
       "      <td>Why a Supreme Court decision on fishing boats ...</td>\n",
       "      <td>The Supreme Court is poised to gut a key legal...</td>\n",
       "      <td>The Verge</td>\n",
       "      <td>2024-01-20T13:00:00Z</td>\n",
       "    </tr>\n",
       "    <tr>\n",
       "      <th>4</th>\n",
       "      <td>The Fossil Fuel Industry Knew About Climate Ch...</td>\n",
       "      <td>The Guardian reports:\\n\\nThe fossil fuel indus...</td>\n",
       "      <td>Slashdot.org</td>\n",
       "      <td>2024-02-04T12:34:00Z</td>\n",
       "    </tr>\n",
       "    <tr>\n",
       "      <th>...</th>\n",
       "      <td>...</td>\n",
       "      <td>...</td>\n",
       "      <td>...</td>\n",
       "      <td>...</td>\n",
       "    </tr>\n",
       "    <tr>\n",
       "      <th>95</th>\n",
       "      <td>Climate activist Greta Thunberg on trial in Lo...</td>\n",
       "      <td>Climate activist Greta Thunberg is on trial fo...</td>\n",
       "      <td>ABC News</td>\n",
       "      <td>2024-02-01T13:42:38Z</td>\n",
       "    </tr>\n",
       "    <tr>\n",
       "      <th>96</th>\n",
       "      <td>California’s Climate Has Come Unmoored</td>\n",
       "      <td>The weather of catastrophe is here.</td>\n",
       "      <td>The Atlantic</td>\n",
       "      <td>2024-02-07T17:29:10Z</td>\n",
       "    </tr>\n",
       "    <tr>\n",
       "      <th>97</th>\n",
       "      <td>Climate change is making it harder for trees t...</td>\n",
       "      <td>A new study highlights just how much climate c...</td>\n",
       "      <td>BGR</td>\n",
       "      <td>2024-02-03T15:33:00Z</td>\n",
       "    </tr>\n",
       "    <tr>\n",
       "      <th>98</th>\n",
       "      <td>Living Through the End of California</td>\n",
       "      <td>In a new book, Manjula Martin faces up to the ...</td>\n",
       "      <td>The Atlantic</td>\n",
       "      <td>2024-02-02T14:12:27Z</td>\n",
       "    </tr>\n",
       "    <tr>\n",
       "      <th>99</th>\n",
       "      <td>Big Tech's CES 2024 Sustainability Goals: More...</td>\n",
       "      <td>Tech companies are feeling more pressure to ad...</td>\n",
       "      <td>CNET</td>\n",
       "      <td>2024-01-13T13:00:11Z</td>\n",
       "    </tr>\n",
       "  </tbody>\n",
       "</table>\n",
       "<p>100 rows × 4 columns</p>\n",
       "</div>"
      ],
      "text/plain": [
       "                                                Title  \\\n",
       "0                   Paris votes to crack down on SUVs   \n",
       "1   NASA’s new mission will study microscopic plan...   \n",
       "2   Inside the Beef Industry’s Campaign to Influen...   \n",
       "3   Why a Supreme Court decision on fishing boats ...   \n",
       "4   The Fossil Fuel Industry Knew About Climate Ch...   \n",
       "..                                                ...   \n",
       "95  Climate activist Greta Thunberg on trial in Lo...   \n",
       "96             California’s Climate Has Come Unmoored   \n",
       "97  Climate change is making it harder for trees t...   \n",
       "98               Living Through the End of California   \n",
       "99  Big Tech's CES 2024 Sustainability Goals: More...   \n",
       "\n",
       "                                          Description        Source  \\\n",
       "0   Parisians have voted to increase parking charg...     The Verge   \n",
       "1   A new NASA mission will study microscopic plan...     The Verge   \n",
       "2   Big Beef is wooing science teachers with webin...         Wired   \n",
       "3   The Supreme Court is poised to gut a key legal...     The Verge   \n",
       "4   The Guardian reports:\\n\\nThe fossil fuel indus...  Slashdot.org   \n",
       "..                                                ...           ...   \n",
       "95  Climate activist Greta Thunberg is on trial fo...      ABC News   \n",
       "96                The weather of catastrophe is here.  The Atlantic   \n",
       "97  A new study highlights just how much climate c...           BGR   \n",
       "98  In a new book, Manjula Martin faces up to the ...  The Atlantic   \n",
       "99  Tech companies are feeling more pressure to ad...          CNET   \n",
       "\n",
       "            Published At  \n",
       "0   2024-02-05T12:24:14Z  \n",
       "1   2024-02-08T19:12:39Z  \n",
       "2   2024-02-01T12:00:00Z  \n",
       "3   2024-01-20T13:00:00Z  \n",
       "4   2024-02-04T12:34:00Z  \n",
       "..                   ...  \n",
       "95  2024-02-01T13:42:38Z  \n",
       "96  2024-02-07T17:29:10Z  \n",
       "97  2024-02-03T15:33:00Z  \n",
       "98  2024-02-02T14:12:27Z  \n",
       "99  2024-01-13T13:00:11Z  \n",
       "\n",
       "[100 rows x 4 columns]"
      ]
     },
     "execution_count": 16,
     "metadata": {},
     "output_type": "execute_result"
    }
   ],
   "source": [
    "df"
   ]
  },
  {
   "cell_type": "code",
   "execution_count": 9,
   "id": "27a14507",
   "metadata": {},
   "outputs": [],
   "source": [
    "# Store the data in a CSV file\n",
    "#df.to_csv('News_API_Data_raw.csv', index=False)"
   ]
  }
 ],
 "metadata": {
  "kernelspec": {
   "display_name": "Python 3 (ipykernel)",
   "language": "python",
   "name": "python3"
  },
  "language_info": {
   "codemirror_mode": {
    "name": "ipython",
    "version": 3
   },
   "file_extension": ".py",
   "mimetype": "text/x-python",
   "name": "python",
   "nbconvert_exporter": "python",
   "pygments_lexer": "ipython3",
   "version": "3.11.5"
  }
 },
 "nbformat": 4,
 "nbformat_minor": 5
}
